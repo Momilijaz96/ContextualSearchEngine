{
  "nbformat": 4,
  "nbformat_minor": 0,
  "metadata": {
    "colab": {
      "name": "Zevi_Project.ipynb",
      "provenance": [],
      "collapsed_sections": [
        "i_9mpurrAUWg"
      ]
    },
    "kernelspec": {
      "name": "python3",
      "display_name": "Python 3"
    },
    "language_info": {
      "name": "python"
    }
  },
  "cells": [
    {
      "cell_type": "code",
      "metadata": {
        "id": "m93tac2O_px5"
      },
      "source": [
        "import json\n",
        "import pandas as pd\n",
        "import seaborn as sns\n",
        "import numpy as np\n",
        "\n",
        "MAX_ITEMS=5 #Number of ranked items to be returned, changeable:)\n",
        "PASSAGES=4000 #Number of passages used , fixed:(\n",
        "QUERIES=280 #Number of queries made against these passages, fixed:("
      ],
      "execution_count": 17,
      "outputs": []
    },
    {
      "cell_type": "markdown",
      "metadata": {
        "id": "i_9mpurrAUWg"
      },
      "source": [
        "### Loading Data"
      ]
    },
    {
      "cell_type": "code",
      "metadata": {
        "id": "OOAHxWGpAXln"
      },
      "source": [
        "filepath='/content/drive/MyDrive/Zevi_search_dataset.json'\n",
        "\n",
        "with open(filepath) as f:\n",
        "  data = json.load(f)\n"
      ],
      "execution_count": 18,
      "outputs": []
    },
    {
      "cell_type": "code",
      "metadata": {
        "colab": {
          "base_uri": "https://localhost:8080/",
          "height": 1000
        },
        "id": "KFi8vvZJBkzl",
        "outputId": "054a7e84-cf32-4f1b-a004-9df55c50de20"
      },
      "source": [
        "df=pd.DataFrame(data)\n",
        "df.head(10)"
      ],
      "execution_count": 19,
      "outputs": [
        {
          "output_type": "execute_result",
          "data": {
            "text/html": [
              "<div>\n",
              "<style scoped>\n",
              "    .dataframe tbody tr th:only-of-type {\n",
              "        vertical-align: middle;\n",
              "    }\n",
              "\n",
              "    .dataframe tbody tr th {\n",
              "        vertical-align: top;\n",
              "    }\n",
              "\n",
              "    .dataframe thead th {\n",
              "        text-align: right;\n",
              "    }\n",
              "</style>\n",
              "<table border=\"1\" class=\"dataframe\">\n",
              "  <thead>\n",
              "    <tr style=\"text-align: right;\">\n",
              "      <th></th>\n",
              "      <th>name</th>\n",
              "      <th>description</th>\n",
              "      <th>brand</th>\n",
              "      <th>categories</th>\n",
              "      <th>hierarchicalCategories</th>\n",
              "      <th>type</th>\n",
              "      <th>price</th>\n",
              "      <th>price_range</th>\n",
              "      <th>image</th>\n",
              "      <th>url</th>\n",
              "      <th>free_shipping</th>\n",
              "      <th>rating</th>\n",
              "      <th>popularity</th>\n",
              "      <th>objectID</th>\n",
              "    </tr>\n",
              "  </thead>\n",
              "  <tbody>\n",
              "    <tr>\n",
              "      <th>0</th>\n",
              "      <td>Amazon - Fire TV Stick with Alexa Voice Remote...</td>\n",
              "      <td>Enjoy smart access to videos, games and apps w...</td>\n",
              "      <td>Amazon</td>\n",
              "      <td>[TV &amp; Home Theater, Streaming Media Players]</td>\n",
              "      <td>{'lvl0': 'TV &amp; Home Theater', 'lvl1': 'TV &amp; Ho...</td>\n",
              "      <td>Streaming media plyr</td>\n",
              "      <td>39.99</td>\n",
              "      <td>1 - 50</td>\n",
              "      <td>https://cdn-demo.algolia.com/bestbuy-0118/5477...</td>\n",
              "      <td>https://api.bestbuy.com/click/-/5477500/pdp</td>\n",
              "      <td>False</td>\n",
              "      <td>4</td>\n",
              "      <td>21469</td>\n",
              "      <td>5477500</td>\n",
              "    </tr>\n",
              "    <tr>\n",
              "      <th>1</th>\n",
              "      <td>Google - Chromecast - Black</td>\n",
              "      <td>Google Chromecast: Enjoy a world of entertainm...</td>\n",
              "      <td>Google</td>\n",
              "      <td>[TV &amp; Home Theater, Streaming Media Players]</td>\n",
              "      <td>{'lvl0': 'TV &amp; Home Theater', 'lvl1': 'TV &amp; Ho...</td>\n",
              "      <td>Streaming media plyr</td>\n",
              "      <td>35.00</td>\n",
              "      <td>1 - 50</td>\n",
              "      <td>https://cdn-demo.algolia.com/bestbuy-0118/4397...</td>\n",
              "      <td>https://api.bestbuy.com/click/-/4397400/pdp</td>\n",
              "      <td>False</td>\n",
              "      <td>4</td>\n",
              "      <td>21468</td>\n",
              "      <td>4397400</td>\n",
              "    </tr>\n",
              "    <tr>\n",
              "      <th>2</th>\n",
              "      <td>Dell - Inspiron 15.6\" Touch-Screen Laptop - In...</td>\n",
              "      <td>Dell Inspiron Laptop: Get speed and performanc...</td>\n",
              "      <td>Dell</td>\n",
              "      <td>[Computers &amp; Tablets, Laptops]</td>\n",
              "      <td>{'lvl0': 'Computers &amp; Tablets', 'lvl1': 'Compu...</td>\n",
              "      <td>Burst skus</td>\n",
              "      <td>499.99</td>\n",
              "      <td>200 - 500</td>\n",
              "      <td>https://cdn-demo.algolia.com/bestbuy-0118/5588...</td>\n",
              "      <td>https://api.bestbuy.com/click/-/5588602/pdp</td>\n",
              "      <td>True</td>\n",
              "      <td>4</td>\n",
              "      <td>21467</td>\n",
              "      <td>5588602</td>\n",
              "    </tr>\n",
              "    <tr>\n",
              "      <th>3</th>\n",
              "      <td>Amazon - Echo Dot</td>\n",
              "      <td>Deliver your favorite playlist anywhere in you...</td>\n",
              "      <td>Amazon</td>\n",
              "      <td>[Smart Home]</td>\n",
              "      <td>{'lvl0': 'Smart Home'}</td>\n",
              "      <td>Voice assistants</td>\n",
              "      <td>49.99</td>\n",
              "      <td>1 - 50</td>\n",
              "      <td>https://cdn-demo.algolia.com/bestbuy-0118/5578...</td>\n",
              "      <td>https://api.bestbuy.com/click/-/5578851/pdp</td>\n",
              "      <td>True</td>\n",
              "      <td>4</td>\n",
              "      <td>21466</td>\n",
              "      <td>5578851</td>\n",
              "    </tr>\n",
              "    <tr>\n",
              "      <th>4</th>\n",
              "      <td>Apple - MacBook Air® (Latest Model) - 13.3\" Di...</td>\n",
              "      <td>MacBook Air features up to 8GB of memory, a fi...</td>\n",
              "      <td>Apple</td>\n",
              "      <td>[Computers &amp; Tablets, Laptops, All Laptops, Ma...</td>\n",
              "      <td>{'lvl0': 'Computers &amp; Tablets', 'lvl1': 'Compu...</td>\n",
              "      <td>Apple</td>\n",
              "      <td>999.99</td>\n",
              "      <td>500 - 2000</td>\n",
              "      <td>https://cdn-demo.algolia.com/bestbuy-0118/6443...</td>\n",
              "      <td>https://api.bestbuy.com/click/-/6443034/pdp</td>\n",
              "      <td>True</td>\n",
              "      <td>4</td>\n",
              "      <td>21465</td>\n",
              "      <td>6443034</td>\n",
              "    </tr>\n",
              "    <tr>\n",
              "      <th>5</th>\n",
              "      <td>Sharp - 50\" Class (49.5\" Diag.) - LED - 1080p ...</td>\n",
              "      <td>Only at Best Buy  Sharp LC-50LB481U LED Roku T...</td>\n",
              "      <td>Sharp</td>\n",
              "      <td>[TV &amp; Home Theater, TVs, All Flat-Panel TVs]</td>\n",
              "      <td>{'lvl0': 'TV &amp; Home Theater', 'lvl1': 'TV &amp; Ho...</td>\n",
              "      <td>45\"-50\"  tv's</td>\n",
              "      <td>429.99</td>\n",
              "      <td>200 - 500</td>\n",
              "      <td>https://cdn-demo.algolia.com/bestbuy-0118/4863...</td>\n",
              "      <td>https://api.bestbuy.com/click/-/4863102/pdp</td>\n",
              "      <td>False</td>\n",
              "      <td>4</td>\n",
              "      <td>21464</td>\n",
              "      <td>4863102</td>\n",
              "    </tr>\n",
              "    <tr>\n",
              "      <th>6</th>\n",
              "      <td>Google - Google Home - White/Slate fabric</td>\n",
              "      <td>Simplify your everyday life with the Google Ho...</td>\n",
              "      <td>Google</td>\n",
              "      <td>[Smart Home]</td>\n",
              "      <td>{'lvl0': 'Smart Home'}</td>\n",
              "      <td>Voice assistants</td>\n",
              "      <td>129.00</td>\n",
              "      <td>100 - 200</td>\n",
              "      <td>https://cdn-demo.algolia.com/bestbuy-0118/5578...</td>\n",
              "      <td>https://api.bestbuy.com/click/-/5578849/pdp</td>\n",
              "      <td>True</td>\n",
              "      <td>4</td>\n",
              "      <td>21463</td>\n",
              "      <td>5578849</td>\n",
              "    </tr>\n",
              "    <tr>\n",
              "      <th>7</th>\n",
              "      <td>Apple - EarPods™ with Remote and Mic - White</td>\n",
              "      <td>Control media playback, adjust the volume and ...</td>\n",
              "      <td>Apple</td>\n",
              "      <td>[Audio, Headphones, All Headphones]</td>\n",
              "      <td>{'lvl0': 'Audio', 'lvl1': 'Audio &gt; Headphones'...</td>\n",
              "      <td>Earbud headphones</td>\n",
              "      <td>29.99</td>\n",
              "      <td>1 - 50</td>\n",
              "      <td>https://cdn-demo.algolia.com/bestbuy-0118/6848...</td>\n",
              "      <td>https://api.bestbuy.com/click/-/6848136/pdp</td>\n",
              "      <td>True</td>\n",
              "      <td>4</td>\n",
              "      <td>21462</td>\n",
              "      <td>6848136</td>\n",
              "    </tr>\n",
              "    <tr>\n",
              "      <th>8</th>\n",
              "      <td>Philips - hue A19 Smart LED Light Bulb - White...</td>\n",
              "      <td>Philips hue A19 Smart LED Light Bulb: Get ligh...</td>\n",
              "      <td>Philips</td>\n",
              "      <td>[Smart Home, Smart Lighting, Smart Light Bulbs]</td>\n",
              "      <td>{'lvl0': 'Smart Home', 'lvl1': 'Smart Home &gt; S...</td>\n",
              "      <td>Smart lighting</td>\n",
              "      <td>14.99</td>\n",
              "      <td>1 - 50</td>\n",
              "      <td>https://cdn-demo.algolia.com/bestbuy-0118/4374...</td>\n",
              "      <td>https://api.bestbuy.com/click/-/4374300/pdp</td>\n",
              "      <td>False</td>\n",
              "      <td>4</td>\n",
              "      <td>21461</td>\n",
              "      <td>4374300</td>\n",
              "    </tr>\n",
              "    <tr>\n",
              "      <th>9</th>\n",
              "      <td>Nintendo - amiibo Figure (The Legend of Zelda:...</td>\n",
              "      <td>Zelda appears here carrying a Sheikah Slate, a...</td>\n",
              "      <td>Nintendo</td>\n",
              "      <td>[Video Games, Toys to Life, Amiibo]</td>\n",
              "      <td>{'lvl0': 'Video Games', 'lvl1': 'Video Games &gt;...</td>\n",
              "      <td>Toy 2 life character</td>\n",
              "      <td>15.99</td>\n",
              "      <td>1 - 50</td>\n",
              "      <td>https://cdn-demo.algolia.com/bestbuy-0118/5723...</td>\n",
              "      <td>https://api.bestbuy.com/click/-/5723538/pdp</td>\n",
              "      <td>False</td>\n",
              "      <td>0</td>\n",
              "      <td>21460</td>\n",
              "      <td>5723538</td>\n",
              "    </tr>\n",
              "  </tbody>\n",
              "</table>\n",
              "</div>"
            ],
            "text/plain": [
              "                                                name  ... objectID\n",
              "0  Amazon - Fire TV Stick with Alexa Voice Remote...  ...  5477500\n",
              "1                        Google - Chromecast - Black  ...  4397400\n",
              "2  Dell - Inspiron 15.6\" Touch-Screen Laptop - In...  ...  5588602\n",
              "3                                  Amazon - Echo Dot  ...  5578851\n",
              "4  Apple - MacBook Air® (Latest Model) - 13.3\" Di...  ...  6443034\n",
              "5  Sharp - 50\" Class (49.5\" Diag.) - LED - 1080p ...  ...  4863102\n",
              "6          Google - Google Home - White/Slate fabric  ...  5578849\n",
              "7       Apple - EarPods™ with Remote and Mic - White  ...  6848136\n",
              "8  Philips - hue A19 Smart LED Light Bulb - White...  ...  4374300\n",
              "9  Nintendo - amiibo Figure (The Legend of Zelda:...  ...  5723538\n",
              "\n",
              "[10 rows x 14 columns]"
            ]
          },
          "metadata": {
            "tags": []
          },
          "execution_count": 19
        }
      ]
    },
    {
      "cell_type": "code",
      "metadata": {
        "id": "A1XVTwIiBrCO",
        "colab": {
          "base_uri": "https://localhost:8080/",
          "height": 69
        },
        "outputId": "2d80cd4a-24b4-4aba-914a-a66d4461a179"
      },
      "source": [
        "df['description'][0]"
      ],
      "execution_count": 20,
      "outputs": [
        {
          "output_type": "execute_result",
          "data": {
            "application/vnd.google.colaboratory.intrinsic+json": {
              "type": "string"
            },
            "text/plain": [
              "'Enjoy smart access to videos, games and apps with this Amazon Fire TV stick. Its Alexa voice remote lets you deliver hands-free commands when you want to watch television or engage with other applications. With a quad-core processor, 1GB internal memory and 8GB of storage, this portable Amazon Fire TV stick works fast for buffer-free streaming.'"
            ]
          },
          "metadata": {
            "tags": []
          },
          "execution_count": 20
        }
      ]
    },
    {
      "cell_type": "code",
      "metadata": {
        "colab": {
          "base_uri": "https://localhost:8080/",
          "height": 35
        },
        "id": "ZOzcahw1ivcD",
        "outputId": "4058a7f8-9e59-49bd-a0b1-34aa865fc74f"
      },
      "source": [
        "df['image'][0]"
      ],
      "execution_count": 21,
      "outputs": [
        {
          "output_type": "execute_result",
          "data": {
            "application/vnd.google.colaboratory.intrinsic+json": {
              "type": "string"
            },
            "text/plain": [
              "'https://cdn-demo.algolia.com/bestbuy-0118/5477500_sb.jpg'"
            ]
          },
          "metadata": {
            "tags": []
          },
          "execution_count": 21
        }
      ]
    },
    {
      "cell_type": "markdown",
      "metadata": {
        "id": "AejZVsVrqHPQ"
      },
      "source": [
        "## EDA\n",
        " Analyzing the distributions of numerical and counts of categorical features. Except for image and object Id colums."
      ]
    },
    {
      "cell_type": "code",
      "metadata": {
        "colab": {
          "base_uri": "https://localhost:8080/"
        },
        "id": "lY-XxPz0rdfO",
        "outputId": "c58a4a80-262c-45af-f4fd-45d244143098"
      },
      "source": [
        "df.columns"
      ],
      "execution_count": 22,
      "outputs": [
        {
          "output_type": "execute_result",
          "data": {
            "text/plain": [
              "Index(['name', 'description', 'brand', 'categories', 'hierarchicalCategories',\n",
              "       'type', 'price', 'price_range', 'image', 'url', 'free_shipping',\n",
              "       'rating', 'popularity', 'objectID'],\n",
              "      dtype='object')"
            ]
          },
          "metadata": {
            "tags": []
          },
          "execution_count": 22
        }
      ]
    },
    {
      "cell_type": "code",
      "metadata": {
        "colab": {
          "base_uri": "https://localhost:8080/"
        },
        "id": "v8kX_qzEycUl",
        "outputId": "40d54b10-c692-4acc-a7d2-3bff7adb7ab6"
      },
      "source": [
        "df.loc[932,['name','brand']]"
      ],
      "execution_count": 23,
      "outputs": [
        {
          "output_type": "execute_result",
          "data": {
            "text/plain": [
              "name     Panasonic - KX-TGL463S Linc2Cell DECT 6.0 Expa...\n",
              "brand                                            Panasonic\n",
              "Name: 932, dtype: object"
            ]
          },
          "metadata": {
            "tags": []
          },
          "execution_count": 23
        }
      ]
    },
    {
      "cell_type": "markdown",
      "metadata": {
        "id": "ghePk1Otyihm"
      },
      "source": [
        "**Analysis**\n",
        "Name of the brand is concatenated with the name of the product with a trailing dash, and for now we will keep both brand name field seperately and brand appended with product name."
      ]
    },
    {
      "cell_type": "code",
      "metadata": {
        "colab": {
          "base_uri": "https://localhost:8080/",
          "height": 369
        },
        "id": "-Bq7PRYlrBE7",
        "outputId": "ae9acbda-fb06-4bc1-80e6-ce49a6d666ad"
      },
      "source": [
        "#Get distribution of price of products\n",
        "sns.displot(df, x='price',bins=list(np.arange(500,5000,250)));\n"
      ],
      "execution_count": 24,
      "outputs": [
        {
          "output_type": "display_data",
          "data": {
            "image/png": "[encoded data removed]",
            "text/plain": [
              "<Figure size 360x360 with 1 Axes>"
            ]
          },
          "metadata": {
            "tags": [],
            "needs_background": "light"
          }
        }
      ]
    },
    {
      "cell_type": "code",
      "metadata": {
        "colab": {
          "base_uri": "https://localhost:8080/",
          "height": 369
        },
        "id": "m3ex_XMGsgAo",
        "outputId": "8c2925ca-b266-4bbd-f063-770dd90700e8"
      },
      "source": [
        "#Get distribution of popularity of products\n",
        "sns.displot(df, x='popularity');\n"
      ],
      "execution_count": 25,
      "outputs": [
        {
          "output_type": "display_data",
          "data": {
            "image/png": "[encoded data removed]",
            "text/plain": [
              "<Figure size 360x360 with 1 Axes>"
            ]
          },
          "metadata": {
            "tags": [],
            "needs_background": "light"
          }
        }
      ]
    },
    {
      "cell_type": "markdown",
      "metadata": {
        "id": "_LPorv2UtGaZ"
      },
      "source": [
        "The popularity feature is simply incremental for each product, where the first product has highest value for popularity i.e. number of products and the last product has least value of popularity i.e. 1. We are gonna encode this feature as a sentence too, for answering queries relevant to order of items / popularity in data."
      ]
    },
    {
      "cell_type": "code",
      "metadata": {
        "colab": {
          "base_uri": "https://localhost:8080/"
        },
        "id": "yzhJ1jMqswiJ",
        "outputId": "1afd78bf-1751-4ef9-8ecb-0cdc99adea68"
      },
      "source": [
        "df['price_range'].unique()"
      ],
      "execution_count": 26,
      "outputs": [
        {
          "output_type": "execute_result",
          "data": {
            "text/plain": [
              "array(['1 - 50', '200 - 500', '500 - 2000', '100 - 200', '50 - 100',\n",
              "       '> 2000'], dtype=object)"
            ]
          },
          "metadata": {
            "tags": []
          },
          "execution_count": 26
        }
      ]
    },
    {
      "cell_type": "markdown",
      "metadata": {
        "id": "NamwMljxu6Km"
      },
      "source": [
        "**Analysis**\n",
        "Price Range seems to be not much of a useful feature, as the exact price is already given, but we are gonna encode exact price information and price range into a single sentence for the passage."
      ]
    },
    {
      "cell_type": "code",
      "metadata": {
        "colab": {
          "base_uri": "https://localhost:8080/",
          "height": 369
        },
        "id": "QP0iKF5uvbk6",
        "outputId": "ef55ab4e-07ef-4376-f080-553919b28256"
      },
      "source": [
        "#Get distribution of rating of products\n",
        "sns.displot(df, x='rating');\n"
      ],
      "execution_count": 27,
      "outputs": [
        {
          "output_type": "display_data",
          "data": {
            "image/png": "[encoded data removed]",
            "text/plain": [
              "<Figure size 360x360 with 1 Axes>"
            ]
          },
          "metadata": {
            "tags": [],
            "needs_background": "light"
          }
        }
      ]
    },
    {
      "cell_type": "markdown",
      "metadata": {
        "id": "cHjz7i6yvfWv"
      },
      "source": [
        "**Analysis**\n",
        "Most of the products are ranked at a rating of 4, whereas very few products have a rating less than 3. Ratings can help answer queries including the information about the sentiment of the user towards product. Each rating value can be associated with an ordinal sentiment category."
      ]
    },
    {
      "cell_type": "code",
      "metadata": {
        "id": "AErTDUInwU8P"
      },
      "source": [
        "x=df['brand'].value_counts()"
      ],
      "execution_count": 28,
      "outputs": []
    },
    {
      "cell_type": "code",
      "metadata": {
        "colab": {
          "base_uri": "https://localhost:8080/",
          "height": 383
        },
        "id": "9gpWkPgUxXiC",
        "outputId": "1cc0432a-50e1-4340-8f5f-92a14f1907bd"
      },
      "source": [
        "brand_df=pd.DataFrame(df.loc[x[x>300],'brand'],columns=['brand'])\n",
        "sns.catplot(x=\"brand\", kind=\"count\", palette=\"ch:.25\", data=brand_df);\n"
      ],
      "execution_count": 29,
      "outputs": [
        {
          "output_type": "display_data",
          "data": {
            "image/png": "[encoded data removed]",
            "text/plain": [
              "<Figure size 360x360 with 1 Axes>"
            ]
          },
          "metadata": {
            "tags": [],
            "needs_background": "light"
          }
        }
      ]
    },
    {
      "cell_type": "code",
      "metadata": {
        "colab": {
          "base_uri": "https://localhost:8080/"
        },
        "id": "9TNj8qCWy3BJ",
        "outputId": "de0d7eae-d29b-4d3e-d9cd-0a83f2fd2273"
      },
      "source": [
        "df['type'].value_counts()"
      ],
      "execution_count": 30,
      "outputs": [
        {
          "output_type": "execute_result",
          "data": {
            "text/plain": [
              "                            10810\n",
              "Trend cases                   457\n",
              "Ult protection cases          393\n",
              "Ink cartridges                249\n",
              "Business cases                217\n",
              "                            ...  \n",
              "At&#38;t broadband hw           1\n",
              "T-m iphone handset              1\n",
              "Security&#38;maintenance        1\n",
              "Hello kitty                     1\n",
              "Sprint prepaid                  1\n",
              "Name: type, Length: 403, dtype: int64"
            ]
          },
          "metadata": {
            "tags": []
          },
          "execution_count": 30
        }
      ]
    },
    {
      "cell_type": "code",
      "metadata": {
        "colab": {
          "base_uri": "https://localhost:8080/",
          "height": 285
        },
        "id": "a5vcHSPrGEJ6",
        "outputId": "db7e3410-1ef7-4e70-ce14-3931f8c03331"
      },
      "source": [
        "sns.set_theme(style=\"darkgrid\")\n",
        "ax = sns.countplot(x=\"free_shipping\", data=df)"
      ],
      "execution_count": 31,
      "outputs": [
        {
          "output_type": "display_data",
          "data": {
            "image/png": "[encoded data removed]",
            "text/plain": [
              "<Figure size 432x288 with 1 Axes>"
            ]
          },
          "metadata": {
            "tags": []
          }
        }
      ]
    },
    {
      "cell_type": "code",
      "metadata": {
        "colab": {
          "base_uri": "https://localhost:8080/"
        },
        "id": "0ozlkKiYF3tg",
        "outputId": "967d745f-85f7-44b5-bd9a-edbfb9c7fa83"
      },
      "source": [
        "#Percent of products with free shipping\n",
        "df.loc[df['free_shipping']==True,'free_shipping'].count()/df.shape[0]"
      ],
      "execution_count": 32,
      "outputs": [
        {
          "output_type": "execute_result",
          "data": {
            "text/plain": [
              "0.8390237086031022"
            ]
          },
          "metadata": {
            "tags": []
          },
          "execution_count": 32
        }
      ]
    },
    {
      "cell_type": "markdown",
      "metadata": {
        "id": "VXf0kKzFGgs-"
      },
      "source": [
        "**Analysis**\n",
        "Almost 83% products have free shipping and remaining have shiiping charges. Query involving free shipping requests can help filter these products, if I include free_shipping as a sentence in passage."
      ]
    },
    {
      "cell_type": "code",
      "metadata": {
        "colab": {
          "base_uri": "https://localhost:8080/"
        },
        "id": "RPgNfgjQHEh2",
        "outputId": "a6f2154e-d6c9-47d2-ee11-86c8223c8bd4"
      },
      "source": [
        "df['hierarchicalCategories'][30]"
      ],
      "execution_count": 33,
      "outputs": [
        {
          "output_type": "execute_result",
          "data": {
            "text/plain": [
              "{'lvl0': 'Name Brands',\n",
              " 'lvl1': 'Name Brands > GoPro',\n",
              " 'lvl2': 'Name Brands > GoPro > GoPro Cameras'}"
            ]
          },
          "metadata": {
            "tags": []
          },
          "execution_count": 33
        }
      ]
    },
    {
      "cell_type": "code",
      "metadata": {
        "colab": {
          "base_uri": "https://localhost:8080/",
          "height": 285
        },
        "id": "RhTk285ZJK_a",
        "outputId": "e98db791-9310-4031-987b-c837d0d86222"
      },
      "source": [
        "category_lengths=pd.DataFrame(df['hierarchicalCategories'].apply(lambda x: len(x)))\n",
        "ax = sns.countplot(x=\"hierarchicalCategories\", data=category_lengths)"
      ],
      "execution_count": 34,
      "outputs": [
        {
          "output_type": "display_data",
          "data": {
            "image/png": "[encoded data removed]",
            "text/plain": [
              "<Figure size 432x288 with 1 Axes>"
            ]
          },
          "metadata": {
            "tags": []
          }
        }
      ]
    },
    {
      "cell_type": "markdown",
      "metadata": {
        "id": "xM6DAWRgHl2T"
      },
      "source": [
        "**Analysis**\n",
        "Each heirarchichal category have atmost three levels of categories it belongs to, where ever preeceding level is a sub level of the previous category. Most of the products have 3 categorical levels, whereas last categorical level contains infor about all the levels and hence can be used for encoding information about heirarchical categoires in passage."
      ]
    },
    {
      "cell_type": "code",
      "metadata": {
        "colab": {
          "base_uri": "https://localhost:8080/"
        },
        "id": "wzM67e7cp6do",
        "outputId": "4caf1bca-215a-42f5-fa33-8c5839052a0b"
      },
      "source": [
        "df['categories'][13]"
      ],
      "execution_count": 35,
      "outputs": [
        {
          "output_type": "execute_result",
          "data": {
            "text/plain": [
              "['TV & Home Theater', 'TV Mounts']"
            ]
          },
          "metadata": {
            "tags": []
          },
          "execution_count": 35
        }
      ]
    },
    {
      "cell_type": "code",
      "metadata": {
        "colab": {
          "base_uri": "https://localhost:8080/"
        },
        "id": "49LO-QFBqAiK",
        "outputId": "bf2c64c9-9d3f-4257-dfa1-47ded581500f"
      },
      "source": [
        "df['hierarchicalCategories'][13]"
      ],
      "execution_count": 36,
      "outputs": [
        {
          "output_type": "execute_result",
          "data": {
            "text/plain": [
              "{'lvl0': 'TV & Home Theater', 'lvl1': 'TV & Home Theater > TV Mounts'}"
            ]
          },
          "metadata": {
            "tags": []
          },
          "execution_count": 36
        }
      ]
    },
    {
      "cell_type": "markdown",
      "metadata": {
        "id": "rMXNSB5RqLbF"
      },
      "source": [
        "**Analysis**\n",
        "We will encode information from heirarchical categories into a passage from last level, as it encodes information about order and related categoires of a product.\n"
      ]
    },
    {
      "cell_type": "code",
      "metadata": {
        "colab": {
          "base_uri": "https://localhost:8080/"
        },
        "id": "xSiODIobF5QG",
        "outputId": "8c74a822-94fd-49ab-fe04-26df34ec7b07"
      },
      "source": [
        "df.columns"
      ],
      "execution_count": 37,
      "outputs": [
        {
          "output_type": "execute_result",
          "data": {
            "text/plain": [
              "Index(['name', 'description', 'brand', 'categories', 'hierarchicalCategories',\n",
              "       'type', 'price', 'price_range', 'image', 'url', 'free_shipping',\n",
              "       'rating', 'popularity', 'objectID'],\n",
              "      dtype='object')"
            ]
          },
          "metadata": {
            "tags": []
          },
          "execution_count": 37
        }
      ]
    },
    {
      "cell_type": "code",
      "metadata": {
        "colab": {
          "base_uri": "https://localhost:8080/"
        },
        "id": "-hO6V4maVhc6",
        "outputId": "187b5bf7-fb77-4515-e6ce-8f924964f8e5"
      },
      "source": [
        "#Missing Values\n",
        "df.isnull().sum()"
      ],
      "execution_count": 38,
      "outputs": [
        {
          "output_type": "execute_result",
          "data": {
            "text/plain": [
              "name                      0\n",
              "description               0\n",
              "brand                     0\n",
              "categories                0\n",
              "hierarchicalCategories    0\n",
              "type                      0\n",
              "price                     0\n",
              "price_range               0\n",
              "image                     0\n",
              "url                       1\n",
              "free_shipping             0\n",
              "rating                    0\n",
              "popularity                0\n",
              "objectID                  0\n",
              "dtype: int64"
            ]
          },
          "metadata": {
            "tags": []
          },
          "execution_count": 38
        }
      ]
    },
    {
      "cell_type": "code",
      "metadata": {
        "id": "TRUYGSGtu7c4"
      },
      "source": [
        "df.loc[df['url'].isnull(),'url']='<NoURL>'\n"
      ],
      "execution_count": 39,
      "outputs": []
    },
    {
      "cell_type": "code",
      "metadata": {
        "colab": {
          "base_uri": "https://localhost:8080/"
        },
        "id": "luXY8NVFvEMU",
        "outputId": "a0674d32-1153-44a6-e4e9-31e9e64fcea4"
      },
      "source": [
        "#Missing Values\n",
        "df.isnull().sum()"
      ],
      "execution_count": 40,
      "outputs": [
        {
          "output_type": "execute_result",
          "data": {
            "text/plain": [
              "name                      0\n",
              "description               0\n",
              "brand                     0\n",
              "categories                0\n",
              "hierarchicalCategories    0\n",
              "type                      0\n",
              "price                     0\n",
              "price_range               0\n",
              "image                     0\n",
              "url                       0\n",
              "free_shipping             0\n",
              "rating                    0\n",
              "popularity                0\n",
              "objectID                  0\n",
              "dtype: int64"
            ]
          },
          "metadata": {
            "tags": []
          },
          "execution_count": 40
        }
      ]
    },
    {
      "cell_type": "markdown",
      "metadata": {
        "id": "AhYutWR7VtTn"
      },
      "source": [
        "**Analysis**\n",
        "There are no missing vlaues in this dataframe execpt for one sample's url, which is great."
      ]
    },
    {
      "cell_type": "markdown",
      "metadata": {
        "id": "T1VLoEZkTd0X"
      },
      "source": [
        "**Conclusion EDA**\n",
        "\n",
        "There is alot of other questoins that can be asked form data, but contextual encoding of the passage and query is expected to answer all those questions automatically, while attention based searching. Some of the questions include:\n",
        "1. What are the products one can get from a particular category in given price range with free shipping?\n",
        "2. What is the price range of top rated products? What are the cheapest top rated products?\n",
        "3. Which category have largest description?\n",
        "4. What is the difference between price of products with free shipping  and shipping charges?\n",
        "5. For a particular category which brands offers the cheapest top rated products?\n"
      ]
    },
    {
      "cell_type": "markdown",
      "metadata": {
        "id": "ff5BdQxapeHq"
      },
      "source": [
        "## Data Preprocessing\n",
        "For treating this problem as an open ended contextual QnA problem, we need to transform each sample into a document index aka a passage and append it to description. \n"
      ]
    },
    {
      "cell_type": "markdown",
      "metadata": {
        "id": "fCb7ebZNzXmJ"
      },
      "source": [
        "### **Passage Creation**\n",
        "For that we transform each feature or attribute into a sentence, except for object Id and missing features.\n",
        "All features seems good candidate for feature creation. We are not dropping the url, objectID and popularity column either and including it as a sentence in the passage, for answering the queries related to these features.\n"
      ]
    },
    {
      "cell_type": "code",
      "metadata": {
        "id": "ipk3L4EhqGgj",
        "colab": {
          "base_uri": "https://localhost:8080/"
        },
        "outputId": "93c06316-8c16-4b3b-bcd1-a663690dcbca"
      },
      "source": [
        "df.columns"
      ],
      "execution_count": 41,
      "outputs": [
        {
          "output_type": "execute_result",
          "data": {
            "text/plain": [
              "Index(['name', 'description', 'brand', 'categories', 'hierarchicalCategories',\n",
              "       'type', 'price', 'price_range', 'image', 'url', 'free_shipping',\n",
              "       'rating', 'popularity', 'objectID'],\n",
              "      dtype='object')"
            ]
          },
          "metadata": {
            "tags": []
          },
          "execution_count": 41
        }
      ]
    },
    {
      "cell_type": "code",
      "metadata": {
        "id": "KksENlDYva_n"
      },
      "source": [
        "#Function for converting each record to a passage.\n",
        "#Args: One record from dataframe df.iloc[0]\n",
        "#Returns:  Passage corresponding to input record\n",
        "def make_passage(product):\n",
        "  #Result passage object to return\n",
        "  psg=''\n",
        "\n",
        "  #Trsform name column to sentence\n",
        "  psg+='The product is called '+product['name']+'.'\n",
        "\n",
        "  #Brand\n",
        "  psg+='It is made by '+product['brand']+'. '\n",
        "\n",
        "  #Append description to it\n",
        "  psg+=product['description']\n",
        "\n",
        "  #Append type\n",
        "  if product['type']:\n",
        "    psg+='It is a '+product['type']+'. '\n",
        "\n",
        "  #Append price and price range\n",
        "  psg+='It falls in price range of '+ str(product['price_range']) + ' and is of '+ str(product['price'])+ ' dollars.'\n",
        "\n",
        "  #Append heirarchical category\n",
        "  if(len(product['hierarchicalCategories'])>0):\n",
        "    cat_lvls=product['hierarchicalCategories'][list(product['hierarchicalCategories'])[-1]].split('>')\n",
        "    psg+='It belongs to '+cat_lvls[0]\n",
        "    for lvl in cat_lvls[1:]:\n",
        "      psg+=' and it\\'s sub category '+lvl\n",
        "\n",
        "  #Free shipping\n",
        "  if product['free_shipping']:\n",
        "    psg+='. It has free shipping.'\n",
        "  else:\n",
        "    psg+='. It does not have free shipping.'\n",
        "  \n",
        "  #Rating and popularity\n",
        "  psg+='It has a rating of '+ str(product['rating'])+' and a popularity index of '+str(product['popularity'])+'.'\n",
        "\n",
        "  #Product id, url and image\n",
        "  psg+=' The object id of the product is '+product['objectID']+'. Image is avaible on '+product['image']+' and more detials can be found on '+product['url'] +'.'\n",
        "\n",
        "  return psg\n"
      ],
      "execution_count": 42,
      "outputs": []
    },
    {
      "cell_type": "code",
      "metadata": {
        "id": "bWSHSFLNwTq9",
        "colab": {
          "base_uri": "https://localhost:8080/",
          "height": 154
        },
        "outputId": "560a4744-6916-422a-a9b1-57b9ff10d3bf"
      },
      "source": [
        "make_passage(df.iloc[0])"
      ],
      "execution_count": 43,
      "outputs": [
        {
          "output_type": "execute_result",
          "data": {
            "application/vnd.google.colaboratory.intrinsic+json": {
              "type": "string"
            },
            "text/plain": [
              "\"The product is called Amazon - Fire TV Stick with Alexa Voice Remote - Black.It is made by Amazon. Enjoy smart access to videos, games and apps with this Amazon Fire TV stick. Its Alexa voice remote lets you deliver hands-free commands when you want to watch television or engage with other applications. With a quad-core processor, 1GB internal memory and 8GB of storage, this portable Amazon Fire TV stick works fast for buffer-free streaming.It is a Streaming media plyr. It falls in price range of 1 - 50 and is of 39.99 dollars.It belongs to TV & Home Theater  and it's sub category  Streaming Media Players. It does not have free shipping.It has a rating of 4 and a popularity index of 21469. The object id of the product is 5477500. Image is avaible on https://cdn-demo.algolia.com/bestbuy-0118/5477500_sb.jpg and more detials can be found on https://api.bestbuy.com/click/-/5477500/pdp.\""
            ]
          },
          "metadata": {
            "tags": []
          },
          "execution_count": 43
        }
      ]
    },
    {
      "cell_type": "code",
      "metadata": {
        "colab": {
          "base_uri": "https://localhost:8080/"
        },
        "id": "U287Cjd4XOD9",
        "outputId": "8ee93dc5-fcfd-48aa-a615-29bdcf49a987"
      },
      "source": [
        "passages=df.apply(make_passage,axis=1)\n",
        "passages.head()"
      ],
      "execution_count": 44,
      "outputs": [
        {
          "output_type": "execute_result",
          "data": {
            "text/plain": [
              "0    The product is called Amazon - Fire TV Stick w...\n",
              "1    The product is called Google - Chromecast - Bl...\n",
              "2    The product is called Dell - Inspiron 15.6\" To...\n",
              "3    The product is called Amazon - Echo Dot.It is ...\n",
              "4    The product is called Apple - MacBook Air® (La...\n",
              "dtype: object"
            ]
          },
          "metadata": {
            "tags": []
          },
          "execution_count": 44
        }
      ]
    },
    {
      "cell_type": "code",
      "metadata": {
        "colab": {
          "base_uri": "https://localhost:8080/",
          "height": 154
        },
        "id": "jJpNZCD3X3xV",
        "outputId": "81e84523-4a4b-4451-e3d5-ff780ec1e9c6"
      },
      "source": [
        "passages[0]"
      ],
      "execution_count": 45,
      "outputs": [
        {
          "output_type": "execute_result",
          "data": {
            "application/vnd.google.colaboratory.intrinsic+json": {
              "type": "string"
            },
            "text/plain": [
              "\"The product is called Amazon - Fire TV Stick with Alexa Voice Remote - Black.It is made by Amazon. Enjoy smart access to videos, games and apps with this Amazon Fire TV stick. Its Alexa voice remote lets you deliver hands-free commands when you want to watch television or engage with other applications. With a quad-core processor, 1GB internal memory and 8GB of storage, this portable Amazon Fire TV stick works fast for buffer-free streaming.It is a Streaming media plyr. It falls in price range of 1 - 50 and is of 39.99 dollars.It belongs to TV & Home Theater  and it's sub category  Streaming Media Players. It does not have free shipping.It has a rating of 4 and a popularity index of 21469. The object id of the product is 5477500. Image is avaible on https://cdn-demo.algolia.com/bestbuy-0118/5477500_sb.jpg and more detials can be found on https://api.bestbuy.com/click/-/5477500/pdp.\""
            ]
          },
          "metadata": {
            "tags": []
          },
          "execution_count": 45
        }
      ]
    },
    {
      "cell_type": "code",
      "metadata": {
        "colab": {
          "base_uri": "https://localhost:8080/",
          "height": 232
        },
        "id": "e9AI6qgr9sh8",
        "outputId": "b4e14b90-9052-4880-caad-41cce5bcc824"
      },
      "source": [
        "#Make a dataframe of passages with passage id\n",
        "passages=pd.DataFrame(passages,columns=['passage'])\n",
        "#Sampling 4000 random passages subset without replacement\n",
        "p_sset=passages.sample(n=PASSAGESb)\n",
        "\n",
        "p_sset['psg_id']=list(range(0,p_sset.shape[0]))\n",
        "p_sset.head()"
      ],
      "execution_count": 46,
      "outputs": [
        {
          "output_type": "error",
          "ename": "NameError",
          "evalue": "ignored",
          "traceback": [
            "\u001b[0;31m---------------------------------------------------------------------------\u001b[0m",
            "\u001b[0;31mNameError\u001b[0m                                 Traceback (most recent call last)",
            "\u001b[0;32m<ipython-input-46-08ae3d5eba4b>\u001b[0m in \u001b[0;36m<module>\u001b[0;34m()\u001b[0m\n\u001b[1;32m      2\u001b[0m \u001b[0mpassages\u001b[0m\u001b[0;34m=\u001b[0m\u001b[0mpd\u001b[0m\u001b[0;34m.\u001b[0m\u001b[0mDataFrame\u001b[0m\u001b[0;34m(\u001b[0m\u001b[0mpassages\u001b[0m\u001b[0;34m,\u001b[0m\u001b[0mcolumns\u001b[0m\u001b[0;34m=\u001b[0m\u001b[0;34m[\u001b[0m\u001b[0;34m'passage'\u001b[0m\u001b[0;34m]\u001b[0m\u001b[0;34m)\u001b[0m\u001b[0;34m\u001b[0m\u001b[0;34m\u001b[0m\u001b[0m\n\u001b[1;32m      3\u001b[0m \u001b[0;31m#Sampling 4000 random passages subset without replacement\u001b[0m\u001b[0;34m\u001b[0m\u001b[0;34m\u001b[0m\u001b[0;34m\u001b[0m\u001b[0m\n\u001b[0;32m----> 4\u001b[0;31m \u001b[0mp_sset\u001b[0m\u001b[0;34m=\u001b[0m\u001b[0mpassages\u001b[0m\u001b[0;34m.\u001b[0m\u001b[0msample\u001b[0m\u001b[0;34m(\u001b[0m\u001b[0mn\u001b[0m\u001b[0;34m=\u001b[0m\u001b[0mPASSAGESb\u001b[0m\u001b[0;34m)\u001b[0m\u001b[0;34m\u001b[0m\u001b[0;34m\u001b[0m\u001b[0m\n\u001b[0m\u001b[1;32m      5\u001b[0m \u001b[0;34m\u001b[0m\u001b[0m\n\u001b[1;32m      6\u001b[0m \u001b[0mp_sset\u001b[0m\u001b[0;34m[\u001b[0m\u001b[0;34m'psg_id'\u001b[0m\u001b[0;34m]\u001b[0m\u001b[0;34m=\u001b[0m\u001b[0mlist\u001b[0m\u001b[0;34m(\u001b[0m\u001b[0mrange\u001b[0m\u001b[0;34m(\u001b[0m\u001b[0;36m0\u001b[0m\u001b[0;34m,\u001b[0m\u001b[0mp_sset\u001b[0m\u001b[0;34m.\u001b[0m\u001b[0mshape\u001b[0m\u001b[0;34m[\u001b[0m\u001b[0;36m0\u001b[0m\u001b[0;34m]\u001b[0m\u001b[0;34m)\u001b[0m\u001b[0;34m)\u001b[0m\u001b[0;34m\u001b[0m\u001b[0;34m\u001b[0m\u001b[0m\n",
            "\u001b[0;31mNameError\u001b[0m: name 'PASSAGESb' is not defined"
          ]
        }
      ]
    },
    {
      "cell_type": "code",
      "metadata": {
        "id": "7UZNnoJY8Ogb"
      },
      "source": [
        "p_sset.to_excel('test.xlsx',index=False)"
      ],
      "execution_count": null,
      "outputs": []
    },
    {
      "cell_type": "markdown",
      "metadata": {
        "id": "C3O9OeDy-wZg"
      },
      "source": [
        "Creating a passages dataframe, with all the documents and a unique passage id to map it to relevant queries."
      ]
    },
    {
      "cell_type": "markdown",
      "metadata": {
        "id": "oGmT8y5ozfKb"
      },
      "source": [
        "### **Query Creation**\n",
        "Next up we need to create some queries, to deal with it as a supervised learning problem. Using the structure of information retrieval data from Kaggle by the Allen Institute of A.I, [linked here](https://www.kaggle.com/dmaso01dsta/cisi-a-dataset-for-information-retrieval?select=CISI.REL). As per reference dataset, the number of queries that we need to have, should be 7% of the number of avaible documents. We have 21469 passages / documents and this employes we need 1503 queries to evaluate the performance of our informtion retrieval model. Making this much queries is a little harder and more time consuming, so we will use a smaller portion of our data to evaluate the model's performance and will add more queries and documents to improve model's performance, if needed, keeping the ration of 7% intact between number of queries and passages.<br>\n",
        "Using only 4000 samples for first round with 280 queries."
      ]
    },
    {
      "cell_type": "code",
      "metadata": {
        "id": "B7b7Hq7KCXos"
      },
      "source": [
        "for p in p_sset['passage']:\n",
        "  if 'free' in p:\n",
        "    print(p)\n",
        "    break;       "
      ],
      "execution_count": null,
      "outputs": []
    },
    {
      "cell_type": "code",
      "metadata": {
        "id": "MxZ-hkRkC-0R"
      },
      "source": [
        "acoisndc;aoIZNcaoi;sdc coimsA"
      ],
      "execution_count": null,
      "outputs": []
    },
    {
      "cell_type": "code",
      "metadata": {
        "id": "xaQaLukbEwVZ"
      },
      "source": [
        ""
      ],
      "execution_count": null,
      "outputs": []
    },
    {
      "cell_type": "code",
      "metadata": {
        "id": "Tf6lvbHtE60U"
      },
      "source": [
        "from google.colab import drive\n",
        "drive.mount('/content/drive')"
      ],
      "execution_count": null,
      "outputs": []
    },
    {
      "cell_type": "code",
      "metadata": {
        "id": "WVFR5aGzFJDM"
      },
      "source": [
        ""
      ],
      "execution_count": null,
      "outputs": []
    }
  ]
}